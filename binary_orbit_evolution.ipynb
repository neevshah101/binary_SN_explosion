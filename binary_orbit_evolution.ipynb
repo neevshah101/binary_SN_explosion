{
 "cells": [
  {
   "cell_type": "code",
   "execution_count": 1,
   "metadata": {},
   "outputs": [],
   "source": [
    "import numpy as np\n",
    "import scipy as sp\n",
    "import matplotlib.pyplot as plt\n",
    "import seaborn as sns\n",
    "import scienceplots\n",
    "import astropy.units as u\n",
    "import astropy.constants as const\n",
    "plt.style.use(['science'])\n",
    "from matplotlib.animation import FuncAnimation\n",
    "%matplotlib inline"
   ]
  },
  {
   "cell_type": "code",
   "execution_count": 66,
   "metadata": {},
   "outputs": [],
   "source": [
    "msun = u.M_sun\n",
    "rsun = u.R_sun\n",
    "G = const.G\n",
    "day = u.day\n",
    "meter = u.meter\n",
    "kms = (u.km) / (u.s)"
   ]
  },
  {
   "cell_type": "code",
   "execution_count": 3,
   "metadata": {},
   "outputs": [],
   "source": [
    "def v_orb(primary_mass, secondary_mass, semi_major_axis):\n",
    "    \"\"\"\n",
    "    Computes the orbital velocity.\n",
    "\n",
    "    Parameters:\n",
    "        primary_mass (float): Mass of the primary star (kg).\n",
    "        secondary_mass (float): Mass of the secondary star (kg).\n",
    "        semi_major_axis (float): Orbital semi-major axis (m).\n",
    "\n",
    "    Returns:\n",
    "        float: Orbital velocity (m/s).\n",
    "    \"\"\"\n",
    "    return (np.sqrt(G * (primary_mass + secondary_mass) / semi_major_axis)).to('km/s')\n",
    "\n",
    "def P_orb(primary_mass, secondary_mass, semi_major_axis):\n",
    "    \"\"\"\n",
    "    Computes the orbital period.\n",
    "\n",
    "    Parameters:\n",
    "        primary_mass (float): Mass of the primary star (kg).\n",
    "        secondary_mass (float): Mass of the secondary star (kg).\n",
    "        semi_major_axis (float): Orbital semi-major axis (m).\n",
    "\n",
    "    Returns:\n",
    "        float: Orbital period (days).\n",
    "    \"\"\"\n",
    "    return (2 * pi * np.sqrt(semi_major_axis**3 / (G * (primary_mass + secondary_mass)))).to('day')\n",
    "\n",
    "def pre_SN_a(M1, M2, P):\n",
    "    \"\"\"\n",
    "    Computes the orbital period.\n",
    "\n",
    "    Parameters:\n",
    "        primary_mass (float): Mass of the primary star (kg).\n",
    "        secondary_mass (float): Mass of the secondary star (kg).\n",
    "        semi_major_axis (float): Orbital semi-major axis (m).\n",
    "\n",
    "    Returns:\n",
    "        float: Orbital period (days).\n",
    "    \"\"\"\n",
    "    return (((P / (2*pi))**2 * G * (M1 + M2))**(1/3)).to('Rsun')"
   ]
  },
  {
   "cell_type": "code",
   "execution_count": 117,
   "metadata": {},
   "outputs": [],
   "source": [
    "#Initial condtions\n",
    "m1 = 20 * msun\n",
    "m2 = 50 * msun\n",
    "e = 0\n",
    "P = 8 * day\n",
    "kms = (u.km) / (u.s)\n",
    "pi = np.pi\n",
    "a = pre_SN_a(m1, m2, P)\n",
    "vorb = v_orb(m1, m2, a)"
   ]
  },
  {
   "cell_type": "code",
   "execution_count": 118,
   "metadata": {},
   "outputs": [],
   "source": [
    "X1_init = ((m2 / (m1+m2)) * a).si.value\n",
    "Y1_init = (0 * rsun).si.value\n",
    "Z1_init = (0 * rsun).si.value\n",
    "\n",
    "X2_init = (-(m1 / (m1+m2)) * a).si.value\n",
    "Y2_init = (0 * rsun).si.value\n",
    "Z2_init = (0 * rsun).si.value\n",
    "\n",
    "VX1_init = (0 * kms).si.value\n",
    "VY1_init = ((m2 / (m1+m2)) * vorb).si.value\n",
    "VZ1_init = (0 * kms).si.value\n",
    "\n",
    "VX2_init = (0 * kms).si.value\n",
    "VY2_init = (-(m1 / (m1+m2)) * vorb).si.value\n",
    "VZ2_init = (0 * kms).si.value\n",
    "\n",
    "\n",
    "Y_init = np.array([X1_init, Y1_init, Z1_init, X2_init, Y2_init, Z2_init,VX1_init, VY1_init, VZ1_init, VX2_init, VY2_init, VZ2_init])"
   ]
  },
  {
   "cell_type": "code",
   "execution_count": 4,
   "metadata": {},
   "outputs": [],
   "source": [
    "def func(Y, t, G, m1, m2):\n",
    "\n",
    "    X1, Y1, Z1, X2, Y2, Z2, VX1, VY1, VZ1, VX2, VY2, VZ2 = Y\n",
    "    r = np.sqrt((X2 - X1)**2 + (Y2 - Y1)**2 + (Z2 - Z1)**2)\n",
    "\n",
    "    dX1dt = VX1\n",
    "    dY1dt = VY1\n",
    "    dZ1dt = VZ1\n",
    "    dX2dt = VX2\n",
    "    dY2dt = VY2\n",
    "    dZ2dt = VZ2\n",
    "\n",
    "    dVX1dt = G * m2 * (X2 - X1) / (r**3)\n",
    "    dVY1dt = G * m2 * (Y2 - Y1) / (r**3)\n",
    "    dVZ1dt = G * m2 * (Z2 - Z1) / (r**3)\n",
    "    dVX2dt = G * m1 * (X1 - X2) / (r**3)\n",
    "    dVY2dt = G * m1 * (Y1 - Y2) / (r**3)\n",
    "    dVZ2dt = G * m1 * (Z1 - Z2) / (r**3)\n",
    "\n",
    "    dYdt = [dX1dt, dY1dt, dZ1dt, dX2dt, dY2dt, dZ2dt,\n",
    "            dVX1dt, dVY1dt, dVZ1dt, dVX2dt, dVY2dt, dVZ2dt]\n",
    "    \n",
    "    return dYdt"
   ]
  },
  {
   "cell_type": "code",
   "execution_count": 9,
   "metadata": {},
   "outputs": [],
   "source": [
    "#Initial condtions\n",
    "m1 = 8 * msun\n",
    "m2 = 50 * msun\n",
    "e = 0\n",
    "P = 8 * day\n",
    "kms = (u.km) / (u.s)\n",
    "pi = np.pi\n",
    "a = pre_SN_a(m1, m2, P)\n",
    "vorb = v_orb(m1, m2, a)\n",
    "\n",
    "X1_init = ((m2 / (m1+m2)) * a).si.value\n",
    "Y1_init = (0 * rsun).si.value\n",
    "Z1_init = (0 * rsun).si.value\n",
    "\n",
    "X2_init = (-(m1 / (m1+m2)) * a).si.value\n",
    "Y2_init = (0 * rsun).si.value\n",
    "Z2_init = (0 * rsun).si.value\n",
    "\n",
    "VX1_init = (0 * kms).si.value\n",
    "VY1_init = ((m2 / (m1+m2)) * vorb).si.value\n",
    "VZ1_init = (0 * kms).si.value\n",
    "\n",
    "VX2_init = (0 * kms).si.value\n",
    "VY2_init = (-(m1 / (m1+m2)) * vorb).si.value\n",
    "VZ2_init = (0 * kms).si.value\n",
    "\n",
    "\n",
    "Y_init = np.array([X1_init, Y1_init, Z1_init, X2_init, Y2_init, Z2_init,VX1_init, VY1_init, VZ1_init, VX2_init, VY2_init, VZ2_init])"
   ]
  },
  {
   "cell_type": "code",
   "execution_count": 10,
   "metadata": {},
   "outputs": [],
   "source": [
    "t = np.linspace(0 * day, P, 1000).si.value"
   ]
  },
  {
   "cell_type": "code",
   "execution_count": 11,
   "metadata": {},
   "outputs": [],
   "source": [
    "sol = sp.integrate.odeint(func, Y_init, t, args = (G.si.value, m1.si.value, m2.si.value))"
   ]
  },
  {
   "cell_type": "code",
   "execution_count": null,
   "metadata": {},
   "outputs": [],
   "source": [
    "plt.figure(figsize = (5,5))\n",
    "X1 = (sol[:,0] * meter).to('Rsun')\n",
    "Y1 = (sol[:,1] * meter).to('Rsun')\n",
    "X2 = (sol[:,3] * meter).to('Rsun')\n",
    "Y2 = (sol[:,4] * meter).to('Rsun')\n",
    "\n",
    "plt.plot(X1, Y1, label = 'Progenitor')\n",
    "plt.plot(X2, Y2, label = 'Companion')\n",
    "plt.xlim(-160,160)\n",
    "plt.ylim(-160,160)\n",
    "plt.legend()"
   ]
  },
  {
   "cell_type": "code",
   "execution_count": 95,
   "metadata": {},
   "outputs": [],
   "source": [
    "#Initial condtions\n",
    "m1 = 8 * msun\n",
    "m2 = 2 * msun\n",
    "m1_post_SN = m1 - (m1 + m2)/2 + 0.5 * msun\n",
    "kick = (np.array([18, 0, 0]) * kms).si.value\n",
    "e = 0\n",
    "P = 8 * day\n",
    "kms = (u.km) / (u.s)\n",
    "pi = np.pi\n",
    "a = pre_SN_a(m1, m2, P)\n",
    "vorb = v_orb(m1, m2, a)\n",
    "\n",
    "X1_init = ((m2 / (m1+m2)) * a).si.value\n",
    "Y1_init = (0 * rsun).si.value\n",
    "Z1_init = (0 * rsun).si.value\n",
    "\n",
    "X2_init = (-(m1 / (m1+m2)) * a).si.value\n",
    "Y2_init = (0 * rsun).si.value\n",
    "Z2_init = (0 * rsun).si.value\n",
    "\n",
    "VX1_init = (0 * kms).si.value\n",
    "VY1_init = ((m2 / (m1+m2)) * vorb).si.value\n",
    "VZ1_init = (0 * kms).si.value\n",
    "\n",
    "VX2_init = (0 * kms).si.value\n",
    "VY2_init = (-(m1 / (m1+m2)) * vorb).si.value\n",
    "VZ2_init = (0 * kms).si.value\n",
    "\n",
    "\n",
    "Y_init = np.array([X1_init, Y1_init, Z1_init, X2_init, Y2_init, Z2_init,VX1_init, VY1_init, VZ1_init, VX2_init, VY2_init, VZ2_init])"
   ]
  },
  {
   "cell_type": "code",
   "execution_count": 96,
   "metadata": {},
   "outputs": [],
   "source": [
    "N = 1000\n",
    "t = np.linspace(0 * day, 50*P, N).si.value\n",
    "\n",
    "#time of explosion\n",
    "t_explode = 3*P.si.value\n",
    "\n",
    "#orbit before explosion\n",
    "t_pre_SN = t[t <= t_explode]\n",
    "t_end = t_pre_SN[-1]\n",
    "sol_pre_SN = sp.integrate.odeint(func, Y_init, t_pre_SN, args = (G.si.value, m1.si.value, m2.si.value))\n",
    "\n",
    "#orbit after explosion\n",
    "t_post_SN = t[t > t_explode]\n",
    "t_post_SN = np.insert(t_post_SN, 0, t_end)\n",
    "sol_pre_SN[-1,6:9] += kick\n",
    "Y_init_post_SN = sol_pre_SN[-1]\n",
    "sol_post_SN = sp.integrate.odeint(func, Y_init_post_SN, t_post_SN, args = (G.si.value, m1_post_SN.si.value, m2.si.value))"
   ]
  },
  {
   "cell_type": "code",
   "execution_count": 97,
   "metadata": {},
   "outputs": [],
   "source": [
    "sol = np.vstack((sol_pre_SN[:-1],sol_post_SN))\n",
    "m1_array = np.ones(N) * m1\n",
    "m1_array[len(sol_pre_SN):] = m1_post_SN\n",
    "X1 = (sol[:,0] * meter).to('Rsun')\n",
    "Y1 = (sol[:,1] * meter).to('Rsun')\n",
    "X2 = (sol[:,3] * meter).to('Rsun')\n",
    "Y2 = (sol[:,4] * meter).to('Rsun')\n",
    "X_com = (m1_array * X1 + m2 * X2) / (m1_array + m2)\n",
    "Y_com = (m1_array * Y1 + m2 * Y2) / (m1_array + m2)"
   ]
  },
  {
   "cell_type": "code",
   "execution_count": 98,
   "metadata": {},
   "outputs": [
    {
     "data": {
      "text/plain": [
       "[<matplotlib.lines.Line2D at 0x172b990c0>]"
      ]
     },
     "execution_count": 98,
     "metadata": {},
     "output_type": "execute_result"
    },
    {
     "data": {
      "image/png": "[encoded data removed]",
      "text/plain": [
       "<Figure size 500x500 with 1 Axes>"
      ]
     },
     "metadata": {},
     "output_type": "display_data"
    }
   ],
   "source": [
    "n = len(t_pre_SN)\n",
    "lw = 2\n",
    "plt.figure(figsize = (5,5))\n",
    "plt.plot(X1[:n], Y1[:n], label = 'Progenitor', color = 'C0', lw = lw)\n",
    "plt.plot(X2[:n], Y2[:n], label = 'Companion', color = 'C1', lw = lw)\n",
    "\n",
    "plt.plot(X1[n:], Y1[n:], ls = 'dashed', color = 'C0', lw = lw)\n",
    "plt.plot(X2[n:], Y2[n:], ls ='dashed', color = 'C1', lw = lw)"
   ]
  },
  {
   "cell_type": "code",
   "execution_count": 11,
   "metadata": {},
   "outputs": [
    {
     "data": {
      "text/plain": [
       "<matplotlib.legend.Legend at 0x158547160>"
      ]
     },
     "execution_count": 11,
     "metadata": {},
     "output_type": "execute_result"
    },
    {
     "data": {
      "image/png": "[encoded data removed]",
      "text/plain": [
       "<Figure size 500x500 with 1 Axes>"
      ]
     },
     "metadata": {},
     "output_type": "display_data"
    }
   ],
   "source": [
    "plt.figure(figsize = (5,5))\n",
    "X1 = (sol_pre_SN[:,0] * meter).to('Rsun')\n",
    "Y1 = (sol_pre_SN[:,1] * meter).to('Rsun')\n",
    "X2 = (sol_pre_SN[:,3] * meter).to('Rsun')\n",
    "Y2 = (sol_pre_SN[:,4] * meter).to('Rsun')\n",
    "X_com = (m1 * X1 + m2 * X2) / (m1 + m2)\n",
    "Y_com = (m1 * Y1 + m2 * Y2) / (m1 + m2)\n",
    "\n",
    "plt.plot(X1 - X_com, Y1 - Y_com, label = 'Progenitor')\n",
    "plt.plot(X2 - X_com, Y2 - Y_com, label = 'Companion')\n",
    "#plt.plot(X_com, Y_com, label = 'Center of Mass')\n",
    "\n",
    "X1 = (sol_post_SN[:,0] * meter).to('Rsun')\n",
    "Y1 = (sol_post_SN[:,1] * meter).to('Rsun')\n",
    "X2 = (sol_post_SN[:,3] * meter).to('Rsun')\n",
    "Y2 = (sol_post_SN[:,4] * meter).to('Rsun')\n",
    "X_com = (m1_post_SN * X1 + m2 * X2) / (m1_post_SN + m2)\n",
    "Y_com = (m1_post_SN * Y1 + m2 * Y2) / (m1_post_SN + m2)\n",
    "\n",
    "plt.plot(X1 - X_com, Y1 - Y_com, color = 'C0', ls = 'dashed')\n",
    "plt.plot(X2 - X_com, Y2 - Y_com, color = 'C1', ls = 'dashed')\n",
    "#plt.plot(X_com, Y_com, ls = 'dashed')\n",
    "\n",
    "plt.legend()"
   ]
  },
  {
   "cell_type": "code",
   "execution_count": 23,
   "metadata": {},
   "outputs": [],
   "source": [
    "%%capture\n",
    "fig, ax = plt.subplots()\n",
    "xdata, ydata = [], []\n",
    "ln1, = ax.plot([], [], color = 'C0')\n",
    "ln2, = ax.plot([], [], color = 'C1')\n",
    "\n",
    "def init():\n",
    "    # ln1, = ax.plot([], Y1_pre_SN, color = 'C0')\n",
    "    # ln2, = ax.plot(X2_pre_SN, Y2_pre_SN, color = 'C1')\n",
    "    ax.set_xlim(-200, 900)\n",
    "    ax.set_ylim(-700, 100)\n",
    "    return [ln1,ln2]\n",
    "\n",
    "def update(frame):\n",
    "\n",
    "    ln1.set_data(X1[:frame], Y1[:frame])\n",
    "    ln2.set_data(X2[:frame], Y2[:frame])\n",
    "    return [ln1,ln2]\n",
    "\n",
    "ani = FuncAnimation(fig, update, frames=np.arange(0,N,10),\n",
    "                    init_func=init, blit=False, interval = 2)\n",
    "\n",
    "ani.save('SN_explosion.gif', writer = 'pillow', dpi = 200)"
   ]
  },
  {
   "cell_type": "code",
   "execution_count": 48,
   "metadata": {},
   "outputs": [
    {
     "data": {
      "image/png": "[encoded data removed]",
      "text/plain": [
       "<Figure size 350x262.5 with 1 Axes>"
      ]
     },
     "metadata": {},
     "output_type": "display_data"
    }
   ],
   "source": [
    "# Specific frame index where the transition happens\n",
    "transition_frame = len(t_pre_SN)  # Replace with your value\n",
    "\n",
    "fig, ax = plt.subplots()\n",
    "ln1, = ax.plot([], [], color='C0', marker='*', markersize=1, label='Star 1')  # Initially yellow star\n",
    "ln2, = ax.plot([], [], color='C1', marker='*', markersize=1, label='Star 2')  # Initially yellow star\n",
    "\n",
    "# Initialization function\n",
    "def init():\n",
    "    # ax.set_xlim(-1000, 1000)\n",
    "    # ax.set_ylim(-1000, 1000)\n",
    "    ax.legend()\n",
    "    return [ln1, ln2]\n",
    "\n",
    "# Update function\n",
    "def update(frame):\n",
    "    # Update data for both stars\n",
    "    ln1.set_data(X1[:frame], Y1[:frame])\n",
    "    ln2.set_data(X2[:frame], Y2[:frame])\n",
    "    \n",
    "    # Change marker of Star 1 after the transition frame\n",
    "    if frame < transition_frame:\n",
    "        ln1.set_marker('*')  # Yellow star\n",
    "        ln1.set_color('yellow')\n",
    "    else:\n",
    "        ln1.set_marker('o')  # Black circle\n",
    "        ln1.set_color('black')\n",
    "    \n",
    "    # Star 2 remains a yellow star\n",
    "    ln2.set_marker('*')\n",
    "    ln2.set_color('yellow')\n",
    "\n",
    "\n",
    "\n",
    "    #Dynamically adjust axis limits\n",
    "    xmin = min(X1[:frame+1].min(), X2[:frame+1].min()) - 10*rsun\n",
    "    xmax = max(X1[:frame+1].max(), X2[:frame+1].max()) + 10*rsun\n",
    "    ymin = min(Y1[:frame+1].min(), Y2[:frame+1].min()) - 10*rsun\n",
    "    ymax = max(Y1[:frame+1].max(), Y2[:frame+1].max()) + 10*rsun\n",
    "    ax.set_xlim(xmin.value, xmax.value)\n",
    "    ax.set_ylim(ymin.value, ymax.value)\n",
    "    \n",
    "    return [ln1, ln2]\n",
    "\n",
    "# Create the animation\n",
    "ani = FuncAnimation(fig, update, frames=np.arange(0, N, 10),\n",
    "                    init_func=init, blit=False, interval=15)\n",
    "\n",
    "# Save the animation as a GIF\n",
    "ani.save('SN_explosion.gif', writer='pillow', dpi=200)\n"
   ]
  },
  {
   "cell_type": "code",
   "execution_count": 46,
   "metadata": {},
   "outputs": [
    {
     "data": {
      "text/latex": [
       "$[] \\; \\mathrm{R_{\\odot}}$"
      ],
      "text/plain": [
       "<Quantity [] solRad>"
      ]
     },
     "execution_count": 46,
     "metadata": {},
     "output_type": "execute_result"
    }
   ],
   "source": [
    "X1[:0]"
   ]
  },
  {
   "cell_type": "code",
   "execution_count": 65,
   "metadata": {},
   "outputs": [
    {
     "data": {
      "image/png": "[encoded data removed]",
      "text/plain": [
       "<Figure size 350x262.5 with 1 Axes>"
      ]
     },
     "metadata": {},
     "output_type": "display_data"
    }
   ],
   "source": [
    "# Specific frame index where the transition happens\n",
    "transition_frame = len(t_pre_SN)  # Replace with your value\n",
    "\n",
    "fig, ax = plt.subplots()\n",
    "ln1_line, = ax.plot([], [], color='xkcd:gold', label='Star 1 Trajectory')  # Line for Star 1\n",
    "ln2_line, = ax.plot([], [], color='xkcd:dark yellow', label='Star 2 Trajectory')  # Line for Star 2\n",
    "\n",
    "ln1_marker, = ax.plot([], [], color='xkcd:gold', marker='*', markersize=5)  # Marker for Star 1\n",
    "ln2_marker, = ax.plot([], [], color='xkcd:dark yellow', marker='*', markersize=5)  # Marker for Star 2\n",
    "\n",
    "# Initialization function\n",
    "def init():\n",
    "    # Keep your legend and limits intact\n",
    "    ax.legend()\n",
    "    return [ln1_line, ln2_line, ln1_marker, ln2_marker]\n",
    "\n",
    "# Update function\n",
    "def update(frame):\n",
    "    # Update line trajectories\n",
    "    ln1_line.set_data(X1[:frame], Y1[:frame])\n",
    "    ln2_line.set_data(X2[:frame], Y2[:frame])\n",
    "\n",
    "    # Update marker for the last point\n",
    "    ln1_marker.set_data([X1[:frame][-1].value], [Y1[:frame][-1].value])\n",
    "    ln2_marker.set_data([X2[:frame][-1].value], [Y2[:frame][-1].value])\n",
    "    \n",
    "    # Change marker style and color for Star 1 after the transition frame\n",
    "    if frame < transition_frame:\n",
    "        ln1_marker.set_marker('*')  # Yellow star\n",
    "        ln1_marker.set_color('xkcd:gold')\n",
    "    else:\n",
    "        ln1_marker.set_marker('o')  # Black circle\n",
    "        ln1_marker.set_color('xkcd:black')\n",
    "    \n",
    "    #Dynamically adjust axis limits\n",
    "    xmin = min(X1[:frame].min(), X2[:frame].min()) - 10*rsun\n",
    "    xmax = max(X1[:frame].max(), X2[:frame].max()) + 10*rsun\n",
    "    ymin = min(Y1[:frame].min(), Y2[:frame].min()) - 10*rsun\n",
    "    ymax = max(Y1[:frame].max(), Y2[:frame].max()) + 10*rsun\n",
    "    ax.set_xlim(xmin.value, xmax.value)\n",
    "    ax.set_ylim(ymin.value, ymax.value)\n",
    "    \n",
    "    return [ln1_line, ln2_line, ln1_marker, ln2_marker]\n",
    "\n",
    "# Create the animation\n",
    "ani = FuncAnimation(fig, update, frames=np.arange(1, N, 10),  # Start from 1\n",
    "                    init_func=init, blit=False, interval=15)\n",
    "\n",
    "# Save the animation as a GIF\n",
    "ani.save('SN_explosion.gif', writer='pillow', dpi=200)\n"
   ]
  },
  {
   "cell_type": "code",
   "execution_count": null,
   "metadata": {},
   "outputs": [],
   "source": []
  }
 ],
 "metadata": {
  "kernelspec": {
   "display_name": "base",
   "language": "python",
   "name": "python3"
  },
  "language_info": {
   "codemirror_mode": {
    "name": "ipython",
    "version": 3
   },
   "file_extension": ".py",
   "mimetype": "text/x-python",
   "name": "python",
   "nbconvert_exporter": "python",
   "pygments_lexer": "ipython3",
   "version": "3.10.15"
  }
 },
 "nbformat": 4,
 "nbformat_minor": 2
}
